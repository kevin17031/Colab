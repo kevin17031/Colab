{
  "nbformat": 4,
  "nbformat_minor": 0,
  "metadata": {
    "colab": {
      "name": "Guía Python.ipynb",
      "provenance": [],
      "collapsed_sections": [
        "pNgK53ulagmP",
        "GpHzebsAcc3m",
        "vtkszHEfc34n",
        "mvamO-H0dYd5",
        "j0ZDqOZfeCZz",
        "60d7cd-jfKgU",
        "Pas1oN-4fcjg",
        "nP7R_BdPhu4i",
        "IMM197Pcj6xG",
        "SFlF8vABlO4K",
        "oEWUv_x8lXn3",
        "LqsNYnWQlf3F",
        "h6A6xvXymbqZ",
        "McG-QQ_CwB1v",
        "5IiGlxu2xLzv",
        "GtXl2-x-zNsd"
      ]
    },
    "kernelspec": {
      "name": "python3",
      "display_name": "Python 3"
    },
    "language_info": {
      "name": "python"
    }
  },
  "cells": [
    {
      "cell_type": "markdown",
      "source": [
        "# Guía Nro. 1 - Introducción a Python"
      ],
      "metadata": {
        "id": "fTQtjV2saYkb"
      }
    },
    {
      "cell_type": "code",
      "source": [
        "import numpy as np\n",
        "x = 0.1  # valor que queremos aproximar\n",
        "Cant_term = 10 # cantidad de terminos\n",
        "\n",
        "n = 1 \n",
        "termino = []\n",
        "for n in range(Cant_term): \n",
        "  termino.append((-1)** n / np.math.factorial(2*n+1) * x *(2*n+1))\n",
        "print(termino)"
      ],
      "metadata": {
        "colab": {
          "base_uri": "https://localhost:8080/"
        },
        "id": "9OHkKguH6Des",
        "outputId": "a732e659-d4ba-4a44-f124-7db65cdffa2c"
      },
      "execution_count": null,
      "outputs": [
        {
          "output_type": "stream",
          "name": "stdout",
          "text": [
            "[0.1, -0.05, 0.004166666666666667, -0.0001388888888888889, 2.4801587301587306e-06, -2.7557319223985898e-08, 2.0876756987868096e-10, -1.1470745597729726e-12, 4.7794773323873856e-15, -1.5619206968586227e-17]\n"
          ]
        }
      ]
    },
    {
      "cell_type": "markdown",
      "source": [
        "## 0.1 serie de Taylor sin x"
      ],
      "metadata": {
        "id": "pNgK53ulagmP"
      }
    },
    {
      "cell_type": "code",
      "execution_count": null,
      "metadata": {
        "colab": {
          "base_uri": "https://localhost:8080/"
        },
        "id": "qhZCNvUrZx6f",
        "outputId": "2de01e15-682e-4cf0-8eaf-a4bc1d437f50"
      },
      "outputs": [
        {
          "output_type": "stream",
          "name": "stdout",
          "text": [
            "aproximacion : 0.09983341664682817\n",
            "valor_exacto : 0.09983341664682815\n",
            "Error_abs : 1.3877787807814457e-17\n",
            "El error es 1.3877787807814457e-17 y ademas el valor es 0.09983341664682815...\n"
          ]
        }
      ],
      "source": [
        "import numpy as np\n",
        "x = 0.1  # valor que queremos aproximar\n",
        "Cant_term = 10 # cantidad de terminos\n",
        "\n",
        "terminos= []\n",
        "for j in range(Cant_term): \n",
        "    terminos.append((-1)**j/np.math.factorial(2*j+1)*x**(2*j+1))\n",
        "aproximacion = sum(terminos)\n",
        "valor_exacto = np.sin(x)\n",
        "Error_abs = aproximacion - valor_exacto\n",
        "print(\"aproximacion :\",aproximacion)\n",
        "print(\"valor_exacto :\",valor_exacto)\n",
        "print(\"Error_abs :\",Error_abs)\n",
        "print(f\"El error es {Error_abs} y ademas el valor es {valor_exacto}...\")\n",
        "\n"
      ]
    },
    {
      "cell_type": "code",
      "source": [
        "type(str(10))"
      ],
      "metadata": {
        "colab": {
          "base_uri": "https://localhost:8080/"
        },
        "id": "f38j-CNl9D_t",
        "outputId": "c208dea4-94b3-4759-b8e2-e6c7273aee1b"
      },
      "execution_count": null,
      "outputs": [
        {
          "output_type": "execute_result",
          "data": {
            "text/plain": [
              "str"
            ]
          },
          "metadata": {},
          "execution_count": 7
        }
      ]
    },
    {
      "cell_type": "markdown",
      "source": [
        "## 0.2 serie de Taylor cos x"
      ],
      "metadata": {
        "id": "GpHzebsAcc3m"
      }
    },
    {
      "cell_type": "code",
      "source": [
        "x = 0.5  # valor que queremos aproximar\n",
        "Cant_term = 10 # cantidad de terminos\n",
        "import numpy as np\n",
        "\n",
        "terminos= []\n",
        "for j in range(Cant_term): \n",
        "    terminos.append((-1)**j/np.math.factorial(2*j)*x**(2*j))\n",
        "\n",
        "aproximacion = sum(terminos)\n",
        "valor_exacto = np.cos(x)\n",
        "Error_abs = aproximacion - valor_exacto\n",
        "print(\"aproximacion :\",aproximacion)\n",
        "print(\"valor_exacto :\",valor_exacto)\n",
        "print(\"Error_abs :\",Error_abs)\n"
      ],
      "metadata": {
        "colab": {
          "base_uri": "https://localhost:8080/"
        },
        "id": "cHfYhrs1bEch",
        "outputId": "6da2be0f-4b60-4cc5-80a9-b61381fdff90"
      },
      "execution_count": null,
      "outputs": [
        {
          "output_type": "stream",
          "name": "stdout",
          "text": [
            "aproximacion : 0.8775825618903728\n",
            "valor_exacto : 0.8775825618903728\n",
            "Error_abs : 0.0\n"
          ]
        }
      ]
    },
    {
      "cell_type": "markdown",
      "source": [
        "## 0.3 serie de Taylor exp(x)"
      ],
      "metadata": {
        "id": "vtkszHEfc34n"
      }
    },
    {
      "cell_type": "code",
      "source": [
        "x = 80  # valor que queremos aproximar\n",
        "Cant_term = 20 # cantidad de terminos\n",
        "import numpy as np\n",
        "terminos= []\n",
        "for j in range(Cant_term): \n",
        "    terminos.append(x**(j)/np.math.factorial(j))\n",
        "\n",
        "aproximacion = sum(terminos)\n",
        "valor_exacto = np.exp(x)\n",
        "Error_abs = aproximacion - valor_exacto\n",
        "print(\"aproximacion :\",aproximacion)\n",
        "print(\"valor_exacto :\",valor_exacto)\n",
        "print(f\"valor_exacto : {valor_exacto} tuki \")\n",
        "print(\"Error_abs :\",Error_abs)"
      ],
      "metadata": {
        "colab": {
          "base_uri": "https://localhost:8080/"
        },
        "id": "fsFbIUSWb30_",
        "outputId": "ce15b497-ec96-4c64-e2b2-a3cef323c31d"
      },
      "execution_count": null,
      "outputs": [
        {
          "output_type": "stream",
          "name": "stdout",
          "text": [
            "aproximacion : 1.546150651978831e+19\n",
            "valor_exacto : 5.54062238439351e+34\n",
            "valor_exacto : 5.54062238439351e+34 tuki \n",
            "Error_abs : -5.540622384393508e+34\n"
          ]
        }
      ]
    },
    {
      "cell_type": "markdown",
      "source": [
        "## 0.4 serie de Taylor ln(x)"
      ],
      "metadata": {
        "id": "mvamO-H0dYd5"
      }
    },
    {
      "cell_type": "code",
      "source": [
        "x = 0.5  # valor que queremos aproximar\n",
        "Cant_term = 20 # cantidad de terminos\n",
        "import numpy as np\n",
        "\n",
        "terminos= []\n",
        "for n in range(Cant_term): \n",
        "    terminos.append(1/(2*n+1)*((x-1)/(x+1))**(2*n+1))\n",
        "\n",
        "aproximacion = 2*sum(terminos)\n",
        "valor_exacto = np.log(x)\n",
        "Error_abs = aproximacion - valor_exacto\n",
        "print(\"aproximacion :\",aproximacion)\n",
        "print(\"valor_exacto :\",valor_exacto)\n",
        "print(\"Error_abs :\",Error_abs)"
      ],
      "metadata": {
        "colab": {
          "base_uri": "https://localhost:8080/"
        },
        "id": "FG5CeEIodHV4",
        "outputId": "0ae5ffb5-d2c1-494c-9fea-311dfc3c0340"
      },
      "execution_count": null,
      "outputs": [
        {
          "output_type": "stream",
          "name": "stdout",
          "text": [
            "aproximacion : -0.6931471805599451\n",
            "valor_exacto : -0.6931471805599453\n",
            "Error_abs : 2.220446049250313e-16\n"
          ]
        }
      ]
    },
    {
      "cell_type": "code",
      "source": [
        ""
      ],
      "metadata": {
        "id": "SyFMDSk3dzjo"
      },
      "execution_count": null,
      "outputs": []
    },
    {
      "cell_type": "markdown",
      "source": [
        "## 1.1 serie de Taylor sin x modificada"
      ],
      "metadata": {
        "id": "j0ZDqOZfeCZz"
      }
    },
    {
      "cell_type": "code",
      "source": [
        "import numpy as np\n",
        "\n",
        "x = 25  # valor que queremos aproximar\n",
        "Cant_term = 20 # cantidad de terminos\n",
        "k_periodos = np.floor(x/(2*np.pi))\n",
        "xnuevo = (x-2*np.pi*k_periodos)\n",
        "\n",
        "terminos= []\n",
        "for j in range(Cant_term): \n",
        "    terminos.append((-1)**j/np.math.factorial(2*j+1)*xnuevo**(2*j+1))\n",
        "\n",
        "aproximacion = sum(terminos)\n",
        "valor_exacto = np.sin(x)\n",
        "Error_abs = aproximacion - valor_exacto\n",
        "print(\"aproximacion :\",aproximacion)\n",
        "print(\"valor_exacto :\",valor_exacto)\n",
        "print(\"Error_abs :\",Error_abs)"
      ],
      "metadata": {
        "colab": {
          "base_uri": "https://localhost:8080/"
        },
        "id": "44ygJ-aweIhB",
        "outputId": "0f9d8904-4a3f-451c-92f8-77184090fd88"
      },
      "execution_count": null,
      "outputs": [
        {
          "output_type": "stream",
          "name": "stdout",
          "text": [
            "aproximacion : -0.13235175009775907\n",
            "valor_exacto : -0.13235175009777303\n",
            "Error_abs : 1.3961054534661343e-14\n"
          ]
        }
      ]
    },
    {
      "cell_type": "markdown",
      "source": [
        "## 1.2 serie de Taylor cos x modificada"
      ],
      "metadata": {
        "id": "60d7cd-jfKgU"
      }
    },
    {
      "cell_type": "code",
      "source": [
        "import numpy as np\n",
        "x = 50  # valor que queremos aproximar\n",
        "Cant_term = 20 # cantidad de terminos\n",
        "k_periodos = np.floor(x/(2*np.pi))\n",
        "xnuevo = (x-2*np.pi*k_periodos)\n",
        "\n",
        "terminos= []\n",
        "for j in range(Cant_term): \n",
        "    terminos.append((-1)**j/np.math.factorial(2*j)*xnuevo**(2*j))\n",
        "\n",
        "aproximacion = sum(terminos)\n",
        "valor_exacto = np.cos(x)\n",
        "Error_abs = aproximacion - valor_exacto\n",
        "print(\"aproximacion :\",aproximacion)\n",
        "print(\"valor_exacto :\",valor_exacto)\n",
        "print(\"Error_abs :\",Error_abs)\n"
      ],
      "metadata": {
        "colab": {
          "base_uri": "https://localhost:8080/"
        },
        "id": "RT28ziy9fLEf",
        "outputId": "1fab6fb1-6c49-4754-c70f-16e1ce0ff868"
      },
      "execution_count": null,
      "outputs": [
        {
          "output_type": "stream",
          "name": "stdout",
          "text": [
            "aproximacion : 0.9649660284921134\n",
            "valor_exacto : 0.9649660284921133\n",
            "Error_abs : 1.1102230246251565e-16\n"
          ]
        }
      ]
    },
    {
      "cell_type": "markdown",
      "source": [
        "## 1.3 serie de Taylor exp(x) modificada"
      ],
      "metadata": {
        "id": "Pas1oN-4fcjg"
      }
    },
    {
      "cell_type": "code",
      "source": [
        "import numpy as np\n",
        "x = 25.54  # valor que queremos aproximar\n",
        "Cant_term = 20 # cantidad de terminos\n",
        "\n",
        "Parte_entera = int(np.floor(x))\n",
        "Parte_frac = x - Parte_entera\n",
        "\n",
        "X = 1 # primero calculamos el numero e\n",
        "terminos= []\n",
        "for j in range(Cant_term): \n",
        "    terminos.append(X**(j)/np.math.factorial(j))\n",
        "Num_exp = sum(terminos)\n",
        "# calculamos el la serie de la parte fraccionaria\n",
        "\n",
        "terminos= []\n",
        "for j in range(Cant_term): \n",
        "    terminos.append(Parte_frac**(j)/np.math.factorial(j))\n",
        "Expo_frac = sum(terminos)\n",
        "\n",
        "# hacemos una productoria acumulada para calcular la parte entera\n",
        "Expo_ent = 1\n",
        "for k in range(Parte_entera):\n",
        "    Expo_ent = Expo_ent*Num_exp\n",
        "\n",
        "aproximacion = Expo_ent*Expo_frac\n",
        "valor_exacto = np.exp(x)\n",
        "Error_abs = aproximacion - valor_exacto\n",
        "print(\"aproximacion :\",aproximacion)\n",
        "print(\"valor_exacto :\",valor_exacto)\n",
        "print(\"Error_abs :\",Error_abs)"
      ],
      "metadata": {
        "colab": {
          "base_uri": "https://localhost:8080/"
        },
        "id": "6aBsehq5fdKA",
        "outputId": "999c2b25-fb7d-413b-e9c4-42b7a4c99a3d"
      },
      "execution_count": null,
      "outputs": [
        {
          "output_type": "stream",
          "name": "stdout",
          "text": [
            "aproximacion : 123560901373.88437\n",
            "valor_exacto : 123560901373.88402\n",
            "Error_abs : 0.0003509521484375\n"
          ]
        }
      ]
    },
    {
      "cell_type": "markdown",
      "source": [
        "## 1.4 serie de Taylor ln(x) modificada"
      ],
      "metadata": {
        "id": "nP7R_BdPhu4i"
      }
    },
    {
      "cell_type": "code",
      "source": [
        "import numpy as np\n",
        "def logNat(x, Cant_term):\n",
        "  # esto es una funcion\n",
        "  k = 0\n",
        "  if x > np.exp(1):\n",
        "    while True:\n",
        "      if x/(np.exp(1)**k)<np.exp(1):\n",
        "        break\n",
        "      k = k+1\n",
        "  Xnuevo = x/(np.exp(1))**k;\n",
        "  terminos= []\n",
        "  for n in range(Cant_term): \n",
        "      terminos.append(1/(2*n+1)*((Xnuevo-1)/(Xnuevo+1))**(2*n+1))\n",
        "  aproximacion = 2*sum(terminos) + k\n",
        "  return aproximacion\n",
        "\n",
        "x = 0.5  # valor que queremos aproximar\n",
        "Cant_term = 20 # cantidad de terminos\n",
        "\n",
        "aproximacion2 = logNat(x, 20)\n",
        "valor_exacto = np.log(x)\n",
        "Error_abs = aproximacion2 - valor_exacto\n",
        "print(\"aproximacion :\",aproximacion2)\n",
        "print(\"valor_exacto :\",valor_exacto)\n",
        "print(\"Error_abs :\",Error_abs)"
      ],
      "metadata": {
        "colab": {
          "base_uri": "https://localhost:8080/"
        },
        "id": "Ga3chSV9hHMu",
        "outputId": "2e78d888-bd61-439d-ae24-0a50ffb328b2"
      },
      "execution_count": null,
      "outputs": [
        {
          "output_type": "stream",
          "name": "stdout",
          "text": [
            "aproximacion : -0.6931471805599451\n",
            "valor_exacto : -0.6931471805599453\n",
            "Error_abs : 2.220446049250313e-16\n"
          ]
        }
      ]
    },
    {
      "cell_type": "markdown",
      "source": [
        ""
      ],
      "metadata": {
        "id": "F50ERB_Ah0vV"
      }
    },
    {
      "cell_type": "markdown",
      "source": [
        "## Funciones"
      ],
      "metadata": {
        "id": "IIF8xR7OmG7u"
      }
    },
    {
      "cell_type": "markdown",
      "source": [
        "### 2.1.1 Función serie de Taylor sin x modificada"
      ],
      "metadata": {
        "id": "IMM197Pcj6xG"
      }
    },
    {
      "cell_type": "code",
      "source": [
        "import numpy as np\n",
        "def seno(x,Cant_term):\n",
        "    k_periodos = np.floor(x/(2*np.pi))\n",
        "    xnuevo = (x-2*np.pi*k_periodos)\n",
        "    terminos= []\n",
        "    for j in range(Cant_term): \n",
        "        terminos.append((-1)**j/np.math.factorial(2*j+1)*xnuevo**(2*j+1))\n",
        "    aproximacion = sum(terminos)\n",
        "    return aproximacion\n",
        "\n",
        "x = 25  # valor que queremos aproximar\n",
        "Cant_term = 20 # cantidad de terminos\n",
        "\n",
        "aproximacion = seno(x,Cant_term)\n",
        "valor_exacto = np.sin(x)\n",
        "Error_abs = aproximacion - valor_exacto\n",
        "print(\"aproximacion :\",aproximacion)\n",
        "print(\"valor_exacto :\",valor_exacto)\n",
        "print(\"Error_abs :\",Error_abs)"
      ],
      "metadata": {
        "colab": {
          "base_uri": "https://localhost:8080/"
        },
        "id": "xRmnJZ3Fj7Xr",
        "outputId": "5dbd4e01-b2ca-44bc-ae4e-fa0d35173a74"
      },
      "execution_count": null,
      "outputs": [
        {
          "output_type": "stream",
          "name": "stdout",
          "text": [
            "aproximacion : -0.13235175009775907\n",
            "valor_exacto : -0.13235175009777303\n",
            "Error_abs : 1.3961054534661343e-14\n"
          ]
        }
      ]
    },
    {
      "cell_type": "markdown",
      "source": [
        "### 2.1.2 Función serie de Taylor cos x modificada"
      ],
      "metadata": {
        "id": "SFlF8vABlO4K"
      }
    },
    {
      "cell_type": "code",
      "source": [
        "print(\"Esta no está\")"
      ],
      "metadata": {
        "id": "d2sBm4VllShf"
      },
      "execution_count": null,
      "outputs": []
    },
    {
      "cell_type": "markdown",
      "source": [
        "### 2.1.3 Función serie de Taylor exp(x) modificada"
      ],
      "metadata": {
        "id": "oEWUv_x8lXn3"
      }
    },
    {
      "cell_type": "code",
      "source": [
        "import numpy as np\n",
        "\n",
        "def exponencial(x,Cant_term): \n",
        "    Parte_entera = int(np.floor(x))\n",
        "    Parte_frac = x - Parte_entera\n",
        "    X = 1 # primero calculamos el numero e\n",
        "    terminos= []\n",
        "    for j in range(Cant_term): \n",
        "        terminos.append(X**(j)/np.math.factorial(j))\n",
        "    Num_exp = sum(terminos)\n",
        "    # calculamos el la serie de la parte fraccionaria\n",
        "    terminos= []\n",
        "    for j in range(Cant_term): \n",
        "       terminos.append(Parte_frac**(j)/np.math.factorial(j))\n",
        "    Expo_frac = sum(terminos)\n",
        "    # hacemos una productoria acumulada para calcular la parte entera\n",
        "    Expo_ent = 1\n",
        "    for k in range(Parte_entera):\n",
        "        Expo_ent = Expo_ent*Num_exp\n",
        "    aproximacion = Expo_ent*Expo_frac\n",
        "    return aproximacion\n",
        "\n",
        "x = 25.54  # valor que queremos aproximar\n",
        "Cant_term = 20 # cantidad de terminos\n",
        "\n",
        "aproximacion = exponencial(x,Cant_term)\n",
        "valor_exacto = np.exp(x)\n",
        "Error_abs = aproximacion - valor_exacto\n",
        "print(\"aproximacion :\",aproximacion)\n",
        "print(\"valor_exacto :\",valor_exacto)\n",
        "print(\"Error_abs :\",Error_abs)"
      ],
      "metadata": {
        "colab": {
          "base_uri": "https://localhost:8080/"
        },
        "id": "v5b2PXBnldmE",
        "outputId": "0a4e0d7d-7fa9-48eb-cc26-fa7f72a9d011"
      },
      "execution_count": null,
      "outputs": [
        {
          "output_type": "stream",
          "name": "stdout",
          "text": [
            "aproximacion : 123560901373.88437\n",
            "valor_exacto : 123560901373.88402\n",
            "Error_abs : 0.0003509521484375\n"
          ]
        }
      ]
    },
    {
      "cell_type": "markdown",
      "source": [
        "### 2.1.4 Función serie de Taylor ln(x) modificada"
      ],
      "metadata": {
        "id": "LqsNYnWQlf3F"
      }
    },
    {
      "cell_type": "code",
      "source": [
        "import numpy as np\n",
        "def logNat(x,Cant_term):\n",
        "    k = 0\n",
        "    if x > np.exp(1):\n",
        "      while True:\n",
        "        if x/(np.exp(1)**k)<np.exp(1):\n",
        "          break\n",
        "        k = k+1\n",
        "    Xnuevo = x/(np.exp(1))**k;\n",
        "    terminos= []\n",
        "    for n in range(Cant_term): \n",
        "        terminos.append(1/(2*n+1)*((Xnuevo-1)/(Xnuevo+1))**(2*n+1))\n",
        "    aproximacion = 2*sum(terminos) + k\n",
        "    return aproximacion\n",
        "\n",
        "x = 0.5  # valor que queremos aproximar\n",
        "Cant_term = 20 # cantidad de terminos\n",
        "\n",
        "aproximacion = logNat(x,Cant_term)\n",
        "valor_exacto = np.log(x)\n",
        "Error_abs = aproximacion - valor_exacto\n",
        "print(\"aproximacion :\",aproximacion)\n",
        "print(\"valor_exacto :\",valor_exacto)\n",
        "print(\"Error_abs :\",Error_abs)"
      ],
      "metadata": {
        "colab": {
          "base_uri": "https://localhost:8080/"
        },
        "id": "WJlNgUd2liEX",
        "outputId": "133ec523-f0c5-4ecd-aa03-171e8fa5ae2e"
      },
      "execution_count": null,
      "outputs": [
        {
          "output_type": "stream",
          "name": "stdout",
          "text": [
            "aproximacion : -0.6931471805599451\n",
            "valor_exacto : -0.6931471805599453\n",
            "Error_abs : 2.220446049250313e-16\n"
          ]
        }
      ]
    },
    {
      "cell_type": "markdown",
      "source": [
        "## 2.2 raices"
      ],
      "metadata": {
        "id": "OFueot03l0tf"
      }
    },
    {
      "cell_type": "markdown",
      "source": [
        "### 2.2.1 exp"
      ],
      "metadata": {
        "id": "h6A6xvXymbqZ"
      }
    },
    {
      "cell_type": "markdown",
      "source": [
        "$y = 75.4^{2.56} $ \\\\\n",
        "$ln(y) =2.56 * ln(75.4) $ \\\\\n",
        "$y = exp (2.56 * ln(75.4))  $"
      ],
      "metadata": {
        "id": "fALz8iEjvS8n"
      }
    },
    {
      "cell_type": "code",
      "source": [
        "x = 75.4 # valor base\n",
        "exponente = 2.56 # valor exponente\n",
        "Cant_term = 20 # cantidad de terminos\n",
        "\n",
        "aproximacion = exponencial(exponente * logNat(x, Cant_term),Cant_term)\n",
        "valor_exacto = x ** exponente\n",
        "Error_abs = aproximacion - valor_exacto\n",
        "print(\"aproximacion :\",aproximacion)\n",
        "print(\"valor_exacto :\",valor_exacto)\n",
        "print(\"Error_abs :\",Error_abs)"
      ],
      "metadata": {
        "colab": {
          "base_uri": "https://localhost:8080/"
        },
        "id": "iyIFXruemicE",
        "outputId": "b35220cc-05e2-4c4e-f486-edb3c2fcea38"
      },
      "execution_count": null,
      "outputs": [
        {
          "output_type": "stream",
          "name": "stdout",
          "text": [
            "aproximacion : 63983.8907761428\n",
            "valor_exacto : 63983.89077614277\n",
            "Error_abs : 2.9103830456733704e-11\n"
          ]
        }
      ]
    },
    {
      "cell_type": "markdown",
      "source": [
        "### 2.2.2 raiz"
      ],
      "metadata": {
        "id": "McG-QQ_CwB1v"
      }
    },
    {
      "cell_type": "markdown",
      "source": [
        "$y = \\sqrt[3]{56.1}$ \\\\\n"
      ],
      "metadata": {
        "id": "uEUnk2AHwPuM"
      }
    },
    {
      "cell_type": "code",
      "source": [
        "x = 56.1 # valor base\n",
        "exponente = 1/3 # valor exponente\n",
        "Cant_term = 20 # cantidad de terminos\n",
        "\n",
        "aproximacion = exponencial(exponente * logNat(x, Cant_term),Cant_term)\n",
        "valor_exacto = x ** exponente\n",
        "Error_abs = aproximacion - valor_exacto\n",
        "print(\"aproximacion :\",aproximacion)\n",
        "print(\"valor_exacto :\",valor_exacto)\n",
        "print(\"Error_abs :\",Error_abs)"
      ],
      "metadata": {
        "colab": {
          "base_uri": "https://localhost:8080/"
        },
        "id": "W2zp4YHMvjQ4",
        "outputId": "7d8a1d03-db4e-4349-9a41-2f63e9961abb"
      },
      "execution_count": null,
      "outputs": [
        {
          "output_type": "stream",
          "name": "stdout",
          "text": [
            "aproximacion : 3.8281383103799316\n",
            "valor_exacto : 3.8281383103799307\n",
            "Error_abs : 8.881784197001252e-16\n"
          ]
        }
      ]
    },
    {
      "cell_type": "markdown",
      "source": [
        "# 3. Otros algoritmos"
      ],
      "metadata": {
        "id": "K_i3R61sxGHk"
      }
    },
    {
      "cell_type": "markdown",
      "source": [
        "## 3.1 dividir y promediar"
      ],
      "metadata": {
        "id": "5IiGlxu2xLzv"
      }
    },
    {
      "cell_type": "code",
      "source": [
        "a = 9\n",
        "tolerancia = 0.00001\n",
        "\n",
        "x = a\n",
        "error = 1\n",
        "while error > tolerancia :\n",
        "  xant = x\n",
        "  x = (x+a/x) / 2\n",
        "  error = np.abs((x - xant))\n",
        "aproximacion = x\n",
        "valor_exacto = np.sqrt(a)\n",
        "Error_abs = aproximacion - valor_exacto\n",
        "print(\"aproximacion :\",aproximacion)\n",
        "print(\"valor_exacto :\",valor_exacto)\n",
        "print(\"Error_abs :\",Error_abs)"
      ],
      "metadata": {
        "colab": {
          "base_uri": "https://localhost:8080/"
        },
        "id": "NK8rNM37w_QP",
        "outputId": "c68e50b6-7908-4751-f6f6-907d758a95b1"
      },
      "execution_count": 14,
      "outputs": [
        {
          "output_type": "stream",
          "name": "stdout",
          "text": [
            "aproximacion : 3.0\n",
            "valor_exacto : 3.0\n",
            "Error_abs : 0.0\n"
          ]
        }
      ]
    },
    {
      "cell_type": "markdown",
      "source": [
        "## 3.2 funcion raíz"
      ],
      "metadata": {
        "id": "GtXl2-x-zNsd"
      }
    },
    {
      "cell_type": "code",
      "source": [
        "import numpy as np\n",
        "def raiz_cubica(a,tolerancia):    \n",
        "  x = a\n",
        "  error = 1\n",
        "  while error > tolerancia :\n",
        "    xant = x\n",
        "    x = (x+a/(x*x)) / 2\n",
        "    error = np.abs((x - xant) / xant)\n",
        "  return x\n",
        "\n",
        "a = 27\n",
        "tolerancia = 0.00001\n",
        "\n",
        "aproximacion = raiz_cubica(a,tolerancia)\n",
        "valor_exacto = a**(1/3)\n",
        "Error_abs = aproximacion - valor_exacto\n",
        "print(\"aproximacion :\",aproximacion)\n",
        "print(\"valor_exacto :\",valor_exacto)\n",
        "print(\"Error_abs :\",Error_abs)"
      ],
      "metadata": {
        "colab": {
          "base_uri": "https://localhost:8080/"
        },
        "id": "dQjJVHgoy-it",
        "outputId": "e6c49162-271c-47ca-e5ca-0803abaa810e"
      },
      "execution_count": 35,
      "outputs": [
        {
          "output_type": "stream",
          "name": "stdout",
          "text": [
            "aproximacion : 3.000005499840971\n",
            "valor_exacto : 3.0\n",
            "Error_abs : 5.499840971090464e-06\n"
          ]
        }
      ]
    },
    {
      "cell_type": "code",
      "source": [
        ""
      ],
      "metadata": {
        "id": "SXnufx1vz0OE"
      },
      "execution_count": null,
      "outputs": []
    },
    {
      "cell_type": "markdown",
      "source": [
        "## 3.3 fizz buzz\n",
        "\n"
      ],
      "metadata": {
        "id": "t9eabwHRz_v4"
      }
    },
    {
      "cell_type": "code",
      "source": [
        "for k in range(1,31):\n",
        "  if k % 3 == 0 and k % 5 == 0: \n",
        "    print(\"fizzBuzz\")\n",
        "  elif k%3 == 0: \n",
        "    print(\"fizz\")\n",
        "  elif k%5 == 0: \n",
        "    print(\"Buzz\")\n",
        "  else: \n",
        "    print(k)"
      ],
      "metadata": {
        "colab": {
          "base_uri": "https://localhost:8080/"
        },
        "id": "V9ms8DpF0GZv",
        "outputId": "ea8d3f67-9008-4543-943e-aa7767d56361"
      },
      "execution_count": null,
      "outputs": [
        {
          "output_type": "stream",
          "name": "stdout",
          "text": [
            "1\n",
            "2\n",
            "fizz\n",
            "4\n",
            "Buzz\n",
            "fizz\n",
            "7\n",
            "8\n",
            "fizz\n",
            "Buzz\n",
            "11\n",
            "fizz\n",
            "13\n",
            "14\n",
            "fizzBuzz\n",
            "16\n",
            "17\n",
            "fizz\n",
            "19\n",
            "Buzz\n",
            "fizz\n",
            "22\n",
            "23\n",
            "fizz\n",
            "Buzz\n",
            "26\n",
            "fizz\n",
            "28\n",
            "29\n",
            "fizzBuzz\n"
          ]
        }
      ]
    },
    {
      "cell_type": "markdown",
      "source": [
        "## 3.4 raices polinomio"
      ],
      "metadata": {
        "id": "vRFBoNbb1Nvq"
      }
    },
    {
      "cell_type": "code",
      "source": [
        "a = 1\n",
        "b = 1\n",
        "c = 0\n",
        "import cmath\n",
        "determinante = b**2 - 4*a*c\n",
        "\n",
        "if determinante < 0:\n",
        "  print(\"Raices conjugadas\")\n",
        "  r1 = (-b + cmath.sqrt(determinante))/(2*a)\n",
        "  r2 = (-b - cmath.sqrt(determinante))/(2*a)\n",
        "elif determinante == 0: \n",
        "  print(\"raíz doble\")\n",
        "  r1 = (-b + np.sqrt(determinante))/(2*a)\n",
        "  r2 = (-b - np.sqrt(determinante))/(2*a)\n",
        "elif determinante > 0:\n",
        "  print(\"reales y distintas\")\n",
        "  r1 = (-b + np.sqrt(determinante))/(2*a)\n",
        "  r2 = (-b - np.sqrt(determinante))/(2*a)\n",
        "print(\"r1 :\", r1)\n",
        "print(\"r2 :\", r2)\n",
        "# print(f\"r1 es {r1}\\n\" f\"r2 es{r2}\")\n",
        "\n",
        "  \n"
      ],
      "metadata": {
        "colab": {
          "base_uri": "https://localhost:8080/"
        },
        "id": "uMOkueTa1YdA",
        "outputId": "91f832f5-afaf-442c-ac86-b136d0806399"
      },
      "execution_count": 31,
      "outputs": [
        {
          "output_type": "stream",
          "name": "stdout",
          "text": [
            "reales y distintas\n",
            "r1 : 0.0\n",
            "r2 : -1.0\n"
          ]
        }
      ]
    },
    {
      "cell_type": "markdown",
      "source": [
        ""
      ],
      "metadata": {
        "id": "nVdFZmOy4BLr"
      }
    },
    {
      "cell_type": "code",
      "source": [
        "import numpy as np\n",
        "\n",
        "\n",
        "def nros_aleaterorios(valor_min,valor_max, cant_decimales, cant_numeros):  \n",
        "  \n",
        "  Lista=np.random.uniform(valor_min,valor_max,cant_numeros)\n",
        "  \n",
        "  vector_aleatorios=np.round(Lista,cant_decimales)\n",
        "  \n",
        "  return vector_aleatorios\n",
        "\n",
        "minimo= 2\n",
        "maximo= 100\n",
        "decimales= 2\n",
        "cant_numeros= 8\n",
        "\n",
        "print(nros_aleaterorios(minimo,maximo,decimales,cant_numeros))"
      ],
      "metadata": {
        "colab": {
          "base_uri": "https://localhost:8080/"
        },
        "id": "xLSAnJP1sYxG",
        "outputId": "83f2db14-9fd4-4bdf-90f9-2a773041c19e"
      },
      "execution_count": 82,
      "outputs": [
        {
          "output_type": "stream",
          "name": "stdout",
          "text": [
            "[84.1  30.44 78.78 51.9  71.64 92.1  39.63 91.68]\n"
          ]
        }
      ]
    },
    {
      "cell_type": "code",
      "source": [
        ""
      ],
      "metadata": {
        "id": "4JSXFr-jwohp"
      },
      "execution_count": null,
      "outputs": []
    }
  ]
}